{
 "cells": [
  {
   "cell_type": "code",
   "execution_count": 1,
   "metadata": {
    "collapsed": false
   },
   "outputs": [],
   "source": [
    "a = [\"a\",\"b\",\"c\",\"d\"]\n",
    "b = [\"e\",\"b\",\"f\",\"g\"]\n",
    "c = [\"h\",\"i\",\"j\",\"k\"]"
   ]
  },
  {
   "cell_type": "code",
   "execution_count": 2,
   "metadata": {
    "collapsed": false
   },
   "outputs": [
    {
     "name": "stdout",
     "output_type": "stream",
     "text": [
      "[['a', 'b', 'c', 'd'], ['e', 'b', 'f', 'g'], ['h', 'i', 'j', 'k']]\n"
     ]
    }
   ],
   "source": [
    "L = [a,b,c]\n",
    "print L"
   ]
  },
  {
   "cell_type": "code",
   "execution_count": 3,
   "metadata": {
    "collapsed": false
   },
   "outputs": [
    {
     "name": "stdout",
     "output_type": "stream",
     "text": [
      "0 ['a', 'b', 'c', 'd']\n",
      "1 ['e', 'b', 'f', 'g']\n",
      "2 ['h', 'i', 'j', 'k']\n"
     ]
    }
   ],
   "source": [
    "for i, element in enumerate(L):\n",
    "    print i, element"
   ]
  },
  {
   "cell_type": "code",
   "execution_count": 4,
   "metadata": {
    "collapsed": false
   },
   "outputs": [
    {
     "name": "stdout",
     "output_type": "stream",
     "text": [
      "0 a\n",
      "1 b\n",
      "2 c\n",
      "3 d\n",
      "0 e\n",
      "1 b\n",
      "2 f\n",
      "3 g\n",
      "0 h\n",
      "1 i\n",
      "2 j\n",
      "3 k\n"
     ]
    }
   ],
   "source": [
    "for i, element in enumerate(L):\n",
    "    for j, sub_element in enumerate(element):\n",
    "        print j, sub_element"
   ]
  },
  {
   "cell_type": "code",
   "execution_count": 5,
   "metadata": {
    "collapsed": false,
    "scrolled": true
   },
   "outputs": [
    {
     "name": "stdout",
     "output_type": "stream",
     "text": [
      "BOO: 0\n",
      "YAY: 1\n",
      "BOO: 2\n",
      "BOO: 3\n",
      "BOO: 0\n",
      "YAY: 1\n",
      "BOO: 2\n",
      "BOO: 3\n",
      "BOO: 0\n",
      "YAY: 1\n",
      "BOO: 2\n",
      "BOO: 3\n"
     ]
    }
   ],
   "source": [
    "for i, element in enumerate(L):\n",
    "    check_me = element[1]\n",
    "    for j, sub_element in enumerate(element):\n",
    "        if sub_element == check_me:\n",
    "            print \"YAY: %s\" % j\n",
    "        else:\n",
    "            print \"BOO: %s\" % j"
   ]
  },
  {
   "cell_type": "code",
   "execution_count": 6,
   "metadata": {
    "collapsed": false
   },
   "outputs": [
    {
     "name": "stdout",
     "output_type": "stream",
     "text": [
      "BOO: 0\n",
      "YAY: 1\n",
      "BOO: 2\n",
      "BOO: 3\n",
      "BOO: 0\n",
      "YAY: 1\n",
      "BOO: 2\n",
      "BOO: 3\n",
      "BOO: 0\n",
      "BOO: 1\n",
      "BOO: 2\n",
      "BOO: 3\n",
      "[0, 1]\n"
     ]
    }
   ],
   "source": [
    "found = []\n",
    "for i, element in enumerate(L):\n",
    "    check_me = L[0][1]\n",
    "    for j, sub_element in enumerate(element):\n",
    "        if sub_element == check_me:\n",
    "            print \"YAY: %s\" % j\n",
    "            found.append(i)\n",
    "        else:\n",
    "            print \"BOO: %s\" % j\n",
    "print found"
   ]
  },
  {
   "cell_type": "code",
   "execution_count": 11,
   "metadata": {
    "collapsed": false
   },
   "outputs": [
    {
     "name": "stdout",
     "output_type": "stream",
     "text": [
      "BOO: 0\n",
      "b in ['a', 'b', 'c', 'd']\n",
      "BOO: 2\n",
      "BOO: 3\n",
      "BOO: 0\n",
      "b in ['e', 'b', 'f', 'g']\n",
      "BOO: 2\n",
      "BOO: 3\n",
      "BOO: 0\n",
      "BOO: 1\n",
      "BOO: 2\n",
      "BOO: 3\n",
      "[0, 1]\n",
      "[['a', 'b', 'c', 'd'], ['e', 'b', 'f', 'g'], ['h', 'i', 'j', 'k']]\n"
     ]
    }
   ],
   "source": [
    "# First level working\n",
    "# L = [['a', 'b', 'c', 'd'], ['e', 'b', 'f', 'g'], ['h', 'i', 'j', 'k']]\n",
    "founds = []\n",
    "check_me = L[0][1]\n",
    "for i, element in enumerate(L):\n",
    "    for j, sub_element in enumerate(element):\n",
    "        if sub_element == check_me:\n",
    "            print \"%s in %s\" % (check_me, element)\n",
    "            founds.append(i)\n",
    "        else:\n",
    "            print \"BOO: %s\" % j\n",
    "print founds\n",
    "print L"
   ]
  },
  {
   "cell_type": "code",
   "execution_count": 7,
   "metadata": {
    "collapsed": false
   },
   "outputs": [
    {
     "name": "stdout",
     "output_type": "stream",
     "text": [
      "BOO: 0\n",
      "b in ['a', 'b', 'c', 'd']\n",
      "BOO: 2\n",
      "BOO: 3\n",
      "BOO: 0\n",
      "b in ['e', 'b', 'f', 'g']\n",
      "BOO: 2\n",
      "BOO: 3\n",
      "BOO: 0\n",
      "BOO: 1\n",
      "BOO: 2\n",
      "BOO: 3\n",
      "BOO: 0\n",
      "b in ['a', 'b', 'c', 'd']\n",
      "BOO: 2\n",
      "BOO: 3\n",
      "BOO: 0\n",
      "b in ['e', 'b', 'f', 'g']\n",
      "BOO: 2\n",
      "BOO: 3\n",
      "BOO: 0\n",
      "BOO: 1\n",
      "BOO: 2\n",
      "BOO: 3\n",
      "BOO: 0\n",
      "BOO: 1\n",
      "BOO: 2\n",
      "BOO: 3\n",
      "BOO: 0\n",
      "BOO: 1\n",
      "BOO: 2\n",
      "BOO: 3\n",
      "BOO: 0\n",
      "i in ['h', 'i', 'j', 'k']\n",
      "BOO: 2\n",
      "BOO: 3\n",
      "[0, 0, 1, 1, 2]\n"
     ]
    }
   ],
   "source": [
    "bigger_finds = []\n",
    "for k, large_element in enumerate(L):\n",
    "    check_me = L[k][1]\n",
    "    for i, element in enumerate(L):\n",
    "        for j, sub_element in enumerate(element):\n",
    "            if sub_element == check_me:\n",
    "                print \"%s in %s\" % (check_me, element)\n",
    "                bigger_finds.append(k)\n",
    "            else:\n",
    "                print \"BOO: %s\" % j\n",
    "print bigger_finds"
   ]
  },
  {
   "cell_type": "code",
   "execution_count": 8,
   "metadata": {
    "collapsed": false
   },
   "outputs": [
    {
     "data": {
      "text/plain": [
       "3"
      ]
     },
     "execution_count": 8,
     "metadata": {},
     "output_type": "execute_result"
    }
   ],
   "source": [
    "len(L)"
   ]
  },
  {
   "cell_type": "code",
   "execution_count": null,
   "metadata": {
    "collapsed": true
   },
   "outputs": [],
   "source": []
  }
 ],
 "metadata": {
  "kernelspec": {
   "display_name": "Python 2",
   "language": "python",
   "name": "python2"
  },
  "language_info": {
   "codemirror_mode": {
    "name": "ipython",
    "version": 2
   },
   "file_extension": ".py",
   "mimetype": "text/x-python",
   "name": "python",
   "nbconvert_exporter": "python",
   "pygments_lexer": "ipython2",
   "version": "2.7.12"
  }
 },
 "nbformat": 4,
 "nbformat_minor": 0
}
